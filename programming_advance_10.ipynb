{
 "cells": [
  {
   "cell_type": "code",
   "execution_count": 12,
   "metadata": {},
   "outputs": [],
   "source": [
    "#1a)\n",
    "def get_frame(width,height,char):\n",
    "    if width <=2 :\n",
    "        return \"invalid\"\n",
    "    if height <=2:\n",
    "        return \"invalid\"\n",
    "    l= []\n",
    "    for i in range(height):\n",
    "        \n",
    "            if i == 0 or i+1 == height:\n",
    "                l.append([char*width])\n",
    "            else:\n",
    "                l.append([char+\" \"*(width-2)+char])\n",
    "    return  l  \n",
    "   "
   ]
  },
  {
   "cell_type": "code",
   "execution_count": 13,
   "metadata": {},
   "outputs": [
    {
     "data": {
      "text/plain": [
       "[['##########'], ['#        #'], ['##########']]"
      ]
     },
     "execution_count": 13,
     "metadata": {},
     "output_type": "execute_result"
    }
   ],
   "source": [
    "get_frame(10, 3, \"#\")"
   ]
  },
  {
   "cell_type": "code",
   "execution_count": 21,
   "metadata": {},
   "outputs": [],
   "source": [
    "#2a)\n",
    "def boolean_and(args):\n",
    "     m = True\n",
    "     for i in args:\n",
    "        m = m and i\n",
    "     return m   \n",
    "def boolean_or(args):\n",
    "     m = False\n",
    "     for i in args:\n",
    "        m = m or i\n",
    "     return m     \n",
    "def boolean_xor(args):\n",
    "     m = args[0]\n",
    "     for i in args[1:]:\n",
    "        m = m ^ i\n",
    "     return m     "
   ]
  },
  {
   "cell_type": "code",
   "execution_count": 22,
   "metadata": {},
   "outputs": [
    {
     "data": {
      "text/plain": [
       "False"
      ]
     },
     "execution_count": 22,
     "metadata": {},
     "output_type": "execute_result"
    }
   ],
   "source": [
    "boolean_and([True, True, False, True]) "
   ]
  },
  {
   "cell_type": "code",
   "execution_count": 29,
   "metadata": {},
   "outputs": [],
   "source": [
    "#3a)\n",
    "def make_box(width):\n",
    "    height = width\n",
    "    char = \"#\"\n",
    "    l= []\n",
    "    for i in range(height):\n",
    "        \n",
    "            if i == 0 or i+1 == height:\n",
    "                l.append(char*width)\n",
    "            else:\n",
    "                l.append(char+\" \"*(width-2)+char)\n",
    "    return  l  \n",
    "   "
   ]
  },
  {
   "cell_type": "code",
   "execution_count": 30,
   "metadata": {},
   "outputs": [
    {
     "data": {
      "text/plain": [
       "['#']"
      ]
     },
     "execution_count": 30,
     "metadata": {},
     "output_type": "execute_result"
    }
   ],
   "source": [
    "make_box(1) "
   ]
  },
  {
   "cell_type": "code",
   "execution_count": 51,
   "metadata": {},
   "outputs": [],
   "source": [
    "#4a)\n",
    "from collections import Counter\n",
    "def no_duplicate_letters(string):\n",
    "    l = list(string.split(\" \"))\n",
    "    for i in l:\n",
    "        c = Counter(list(i))\n",
    "        k = max(list(c.values()))\n",
    "        \n",
    "        if k>1:\n",
    "            return False\n",
    "    return True        "
   ]
  },
  {
   "cell_type": "code",
   "execution_count": 52,
   "metadata": {},
   "outputs": [
    {
     "data": {
      "text/plain": [
       "True"
      ]
     },
     "execution_count": 52,
     "metadata": {},
     "output_type": "execute_result"
    }
   ],
   "source": [
    "no_duplicate_letters(\"Fortune favours the bold.\") "
   ]
  },
  {
   "cell_type": "code",
   "execution_count": 53,
   "metadata": {},
   "outputs": [
    {
     "data": {
      "text/plain": [
       "False"
      ]
     },
     "execution_count": 53,
     "metadata": {},
     "output_type": "execute_result"
    }
   ],
   "source": [
    "no_duplicate_letters(\"Look before you leap.\") "
   ]
  },
  {
   "cell_type": "code",
   "execution_count": 54,
   "metadata": {},
   "outputs": [],
   "source": [
    "#5a)\n",
    "import re\n",
    "txt = \"Texas = no, California = yes, Florida = yes, Michigan = no\"\n",
    "pattern = r'\\w* = yes'\n"
   ]
  },
  {
   "cell_type": "code",
   "execution_count": 60,
   "metadata": {},
   "outputs": [],
   "source": [
    "p = re.findall(pattern,txt)\n",
    "l = []\n",
    "k = []"
   ]
  },
  {
   "cell_type": "code",
   "execution_count": 62,
   "metadata": {},
   "outputs": [],
   "source": [
    "for i in p:\n",
    "   l = list(i.split(\" \"))\n",
    "   k.append(l[0])"
   ]
  },
  {
   "cell_type": "code",
   "execution_count": 63,
   "metadata": {},
   "outputs": [
    {
     "data": {
      "text/plain": [
       "['California', 'Florida']"
      ]
     },
     "execution_count": 63,
     "metadata": {},
     "output_type": "execute_result"
    }
   ],
   "source": [
    "k"
   ]
  },
  {
   "cell_type": "code",
   "execution_count": null,
   "metadata": {},
   "outputs": [],
   "source": []
  }
 ],
 "metadata": {
  "kernelspec": {
   "display_name": "Python 3",
   "language": "python",
   "name": "python3"
  },
  "language_info": {
   "codemirror_mode": {
    "name": "ipython",
    "version": 3
   },
   "file_extension": ".py",
   "mimetype": "text/x-python",
   "name": "python",
   "nbconvert_exporter": "python",
   "pygments_lexer": "ipython3",
   "version": "3.8.3"
  }
 },
 "nbformat": 4,
 "nbformat_minor": 4
}
